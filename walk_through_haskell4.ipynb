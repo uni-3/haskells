{
 "cells": [
  {
   "cell_type": "markdown",
   "metadata": {},
   "source": [
    "http://walk.northcol.org/haskell/type-classes/"
   ]
  },
  {
   "cell_type": "code",
   "execution_count": 38,
   "metadata": {
    "collapsed": false
   },
   "outputs": [
    {
     "data": {
      "text/plain": [
       "6.4"
      ]
     },
     "metadata": {},
     "output_type": "display_data"
    }
   ],
   "source": [
    "-- 型クラス(type class)とは\n",
    "-- Num 型クラスの インスタンス（instance）は，具体的な数値型である Int や Double などです．\n",
    "{-\n",
    " 型クラスは，オブジェクト指向プログラミングにおける \"クラス\" と似通った概念ですが，\n",
    " レイヤが違う話なので注意が必要です．\n",
    " オブジェクト指向プログラミングにおけるクラスはデータ型であり，\n",
    " インスタンスはオブジェクトですが，\n",
    " Haskell における型クラスはデータ型のひとつ上の概念であり，\n",
    " インスタンスがデータ型です． \n",
    "-}\n",
    "-- 型クラス -> 数値型 -> 値(上に行くほど抽象的)\n",
    "-- Num -> Int, Double -> 1, 2.0\n",
    "\n",
    "-- 型クラス制約\n",
    "-- Num aはaはNumのインスタンスであるという制約を表す。この制約をcontextという\n",
    "sum :: Num a => [a] -> a\n",
    "sum []     = 0\n",
    "sum (x:xs) = x + sum xs\n",
    "\n",
    "print $ sum [1.4, 2, 3]"
   ]
  },
  {
   "cell_type": "code",
   "execution_count": 22,
   "metadata": {
    "collapsed": false
   },
   "outputs": [
    {
     "data": {
      "text/html": [
       "<style>/* Styles used for the Hoogle display in the pager */\n",
       ".hoogle-doc {\n",
       "display: block;\n",
       "padding-bottom: 1.3em;\n",
       "padding-left: 0.4em;\n",
       "}\n",
       ".hoogle-code {\n",
       "display: block;\n",
       "font-family: monospace;\n",
       "white-space: pre;\n",
       "}\n",
       ".hoogle-text {\n",
       "display: block;\n",
       "}\n",
       ".hoogle-name {\n",
       "color: green;\n",
       "font-weight: bold;\n",
       "}\n",
       ".hoogle-head {\n",
       "font-weight: bold;\n",
       "}\n",
       ".hoogle-sub {\n",
       "display: block;\n",
       "margin-left: 0.4em;\n",
       "}\n",
       ".hoogle-package {\n",
       "font-weight: bold;\n",
       "font-style: italic;\n",
       "}\n",
       ".hoogle-module {\n",
       "font-weight: bold;\n",
       "}\n",
       ".hoogle-class {\n",
       "font-weight: bold;\n",
       "}\n",
       ".get-type {\n",
       "color: green;\n",
       "font-weight: bold;\n",
       "font-family: monospace;\n",
       "display: block;\n",
       "white-space: pre-wrap;\n",
       "}\n",
       ".show-type {\n",
       "color: green;\n",
       "font-weight: bold;\n",
       "font-family: monospace;\n",
       "margin-left: 1em;\n",
       "}\n",
       ".mono {\n",
       "font-family: monospace;\n",
       "display: block;\n",
       "}\n",
       ".err-msg {\n",
       "color: red;\n",
       "font-style: italic;\n",
       "font-family: monospace;\n",
       "white-space: pre;\n",
       "display: block;\n",
       "}\n",
       "#unshowable {\n",
       "color: red;\n",
       "font-weight: bold;\n",
       "}\n",
       ".err-msg.in.collapse {\n",
       "padding-top: 0.7em;\n",
       "}\n",
       ".highlight-code {\n",
       "white-space: pre;\n",
       "font-family: monospace;\n",
       "}\n",
       ".suggestion-warning { \n",
       "font-weight: bold;\n",
       "color: rgb(200, 130, 0);\n",
       "}\n",
       ".suggestion-error { \n",
       "font-weight: bold;\n",
       "color: red;\n",
       "}\n",
       ".suggestion-name {\n",
       "font-weight: bold;\n",
       "}\n",
       "</style><div class=\"suggestion-name\" style=\"clear:both;\">Use ==</div><div class=\"suggestion-row\" style=\"float: left;\"><div class=\"suggestion-error\">Found:</div><div class=\"highlight-code\" id=\"haskell\">not (x /= y)</div></div><div class=\"suggestion-row\" style=\"float: left;\"><div class=\"suggestion-error\">Why Not:</div><div class=\"highlight-code\" id=\"haskell\">x == y</div></div><div class=\"suggestion-name\" style=\"clear:both;\">Use /=</div><div class=\"suggestion-row\" style=\"float: left;\"><div class=\"suggestion-error\">Found:</div><div class=\"highlight-code\" id=\"haskell\">not (x == y)</div></div><div class=\"suggestion-row\" style=\"float: left;\"><div class=\"suggestion-error\">Why Not:</div><div class=\"highlight-code\" id=\"haskell\">x /= y</div></div>"
      ],
      "text/plain": [
       "Line 4: Use ==\n",
       "Found:\n",
       "not (x /= y)\n",
       "Why not:\n",
       "x == yLine 5: Use /=\n",
       "Found:\n",
       "not (x == y)\n",
       "Why not:\n",
       "x /= y"
      ]
     },
     "metadata": {},
     "output_type": "display_data"
    }
   ],
   "source": [
    "-- 型クラスの定義\n",
    "-- クラスメソッド(class method)。型クラスに定義できる関数のこと\n",
    "-- class 宣言には，クラスメソッドの型シグネチャ宣言（型定義？）とデフォルト定義（関数の中身）を記述します．\n",
    "-- なお，デフォルト定義は省略可能です．\n",
    "-- 組み込み型クラスであるEqは (==), (/=)という2つのクラスメソッドを持つ\n",
    "-- 2つのメソッドは互いに参照しあっている、\n",
    "class Eq a where\n",
    "  (==), (/=) :: a -> a -> Bool\n",
    "\n",
    "  x == y = not (x /= y)\n",
    "  x /= y = not (x == y)"
   ]
  },
  {
   "cell_type": "code",
   "execution_count": 39,
   "metadata": {
    "collapsed": true
   },
   "outputs": [
    {
     "data": {
      "text/html": [
       "<style>/* Styles used for the Hoogle display in the pager */\n",
       ".hoogle-doc {\n",
       "display: block;\n",
       "padding-bottom: 1.3em;\n",
       "padding-left: 0.4em;\n",
       "}\n",
       ".hoogle-code {\n",
       "display: block;\n",
       "font-family: monospace;\n",
       "white-space: pre;\n",
       "}\n",
       ".hoogle-text {\n",
       "display: block;\n",
       "}\n",
       ".hoogle-name {\n",
       "color: green;\n",
       "font-weight: bold;\n",
       "}\n",
       ".hoogle-head {\n",
       "font-weight: bold;\n",
       "}\n",
       ".hoogle-sub {\n",
       "display: block;\n",
       "margin-left: 0.4em;\n",
       "}\n",
       ".hoogle-package {\n",
       "font-weight: bold;\n",
       "font-style: italic;\n",
       "}\n",
       ".hoogle-module {\n",
       "font-weight: bold;\n",
       "}\n",
       ".hoogle-class {\n",
       "font-weight: bold;\n",
       "}\n",
       ".get-type {\n",
       "color: green;\n",
       "font-weight: bold;\n",
       "font-family: monospace;\n",
       "display: block;\n",
       "white-space: pre-wrap;\n",
       "}\n",
       ".show-type {\n",
       "color: green;\n",
       "font-weight: bold;\n",
       "font-family: monospace;\n",
       "margin-left: 1em;\n",
       "}\n",
       ".mono {\n",
       "font-family: monospace;\n",
       "display: block;\n",
       "}\n",
       ".err-msg {\n",
       "color: red;\n",
       "font-style: italic;\n",
       "font-family: monospace;\n",
       "white-space: pre;\n",
       "display: block;\n",
       "}\n",
       "#unshowable {\n",
       "color: red;\n",
       "font-weight: bold;\n",
       "}\n",
       ".err-msg.in.collapse {\n",
       "padding-top: 0.7em;\n",
       "}\n",
       ".highlight-code {\n",
       "white-space: pre;\n",
       "font-family: monospace;\n",
       "}\n",
       ".suggestion-warning { \n",
       "font-weight: bold;\n",
       "color: rgb(200, 130, 0);\n",
       "}\n",
       ".suggestion-error { \n",
       "font-weight: bold;\n",
       "color: red;\n",
       "}\n",
       ".suggestion-name {\n",
       "font-weight: bold;\n",
       "}\n",
       "</style><span class='err-msg'>No instance for (Eq Double) arising from a use of `=='<br/>In the first argument of `(&&)', namely x == x'<br/>In the expression: x == x' && y == y'<br/>In an equation for `==': (interactive:IHaskell351.Pt x y) == (interactive:IHaskell351.Pt x' y') = x == x' && y == y'</span>"
      ],
      "text/plain": [
       "No instance for (Eq Double) arising from a use of `=='\n",
       "In the first argument of `(&&)', namely x == x'\n",
       "In the expression: x == x' && y == y'\n",
       "In an equation for `==': (interactive:Ghci351.Pt x y) == (interactive:Ghci351.Pt x' y') = x == x' && y == y'"
      ]
     },
     "metadata": {},
     "output_type": "display_data"
    }
   ],
   "source": [
    "-- インスタンス宣言\n",
    "-- Eqクラスのインスタンスとして、Point型を宣言する。instance Eq Pointとして表す\n",
    "data Point = Pt Double Double\n",
    "\n",
    "instance Eq Point where\n",
    "  (Pt x y) == (Pt x' y') = x == x' && y == y'\n",
    "\n",
    "main = do print $ (Pt 1 2) == (Pt 2 3)  -- 出力: False\n",
    "          print $ (Pt 1 2) /= (Pt 2 3)  -- 出力: True\n",
    "          print $ (Pt 1 2) == (Pt 1 2)  -- 出力: True"
   ]
  },
  {
   "cell_type": "code",
   "execution_count": 36,
   "metadata": {
    "collapsed": true
   },
   "outputs": [
    {
     "data": {
      "text/html": [
       "<style>/* Styles used for the Hoogle display in the pager */\n",
       ".hoogle-doc {\n",
       "display: block;\n",
       "padding-bottom: 1.3em;\n",
       "padding-left: 0.4em;\n",
       "}\n",
       ".hoogle-code {\n",
       "display: block;\n",
       "font-family: monospace;\n",
       "white-space: pre;\n",
       "}\n",
       ".hoogle-text {\n",
       "display: block;\n",
       "}\n",
       ".hoogle-name {\n",
       "color: green;\n",
       "font-weight: bold;\n",
       "}\n",
       ".hoogle-head {\n",
       "font-weight: bold;\n",
       "}\n",
       ".hoogle-sub {\n",
       "display: block;\n",
       "margin-left: 0.4em;\n",
       "}\n",
       ".hoogle-package {\n",
       "font-weight: bold;\n",
       "font-style: italic;\n",
       "}\n",
       ".hoogle-module {\n",
       "font-weight: bold;\n",
       "}\n",
       ".hoogle-class {\n",
       "font-weight: bold;\n",
       "}\n",
       ".get-type {\n",
       "color: green;\n",
       "font-weight: bold;\n",
       "font-family: monospace;\n",
       "display: block;\n",
       "white-space: pre-wrap;\n",
       "}\n",
       ".show-type {\n",
       "color: green;\n",
       "font-weight: bold;\n",
       "font-family: monospace;\n",
       "margin-left: 1em;\n",
       "}\n",
       ".mono {\n",
       "font-family: monospace;\n",
       "display: block;\n",
       "}\n",
       ".err-msg {\n",
       "color: red;\n",
       "font-style: italic;\n",
       "font-family: monospace;\n",
       "white-space: pre;\n",
       "display: block;\n",
       "}\n",
       "#unshowable {\n",
       "color: red;\n",
       "font-weight: bold;\n",
       "}\n",
       ".err-msg.in.collapse {\n",
       "padding-top: 0.7em;\n",
       "}\n",
       ".highlight-code {\n",
       "white-space: pre;\n",
       "font-family: monospace;\n",
       "}\n",
       ".suggestion-warning { \n",
       "font-weight: bold;\n",
       "color: rgb(200, 130, 0);\n",
       "}\n",
       ".suggestion-error { \n",
       "font-weight: bold;\n",
       "color: red;\n",
       "}\n",
       ".suggestion-name {\n",
       "font-weight: bold;\n",
       "}\n",
       "</style><span class='err-msg'>No instance for (IHaskellPrelude.Eq interactive:IHaskell326.Point) arising from the superclasses of an instance declaration<br/>In the instance declaration for `Ord interactive:IHaskell326.Point'<br/><br/>No instance for (Eq Double) arising from a use of `=='<br/>In the expression: x == x'<br/>In a stmt of a pattern guard for<br/>               an equation for `compare':<br/>  x == x'<br/>In an equation for `compare':<br/>    compare (interactive:IHaskell326.Pt x) (interactive:IHaskell326.Pt x')<br/>      | x == x' = EQ<br/>      | x < x' = LT<br/>      | otherwise = GT</span>"
      ],
      "text/plain": [
       "No instance for (IHaskellPrelude.Eq interactive:Ghci326.Point) arising from the superclasses of an instance declaration\n",
       "In the instance declaration for `Ord interactive:Ghci326.Point'\n",
       "\n",
       "No instance for (Eq Double) arising from a use of `=='\n",
       "In the expression: x == x'\n",
       "In a stmt of a pattern guard for\n",
       "               an equation for `compare':\n",
       "  x == x'\n",
       "In an equation for `compare':\n",
       "    compare (interactive:Ghci326.Pt x) (interactive:Ghci326.Pt x')\n",
       "      | x == x' = EQ\n",
       "      | x < x' = LT\n",
       "      | otherwise = GT"
      ]
     },
     "metadata": {},
     "output_type": "display_data"
    }
   ],
   "source": [
    "-- クラスの継承(inherit)\n",
    "-- Eq a => Ord a でOrdクラスのインスタンスはEqクラスのインスタンス\n",
    "-- でなければならないという制約を表す。つまり，Ord クラスのインスタンスは\n",
    "-- Eq クラスのクラスメソッド (==), (/=) も実装する必要がある。\n",
    "-- OrdはEqを継承するともいう。\n",
    "-- Eq クラスはスーパークラス（superclass），Ord クラスはサブクラス（subclass）と呼ばれます．\n",
    "data Point = Pt Double\n",
    "\n",
    "instance Eq Point where\n",
    "  (Pt x) == (Pt x') = x == x'\n",
    "  \n",
    "instance Ord Point where\n",
    "  compare (Pt x) (Pt x')\n",
    "    | x == x'   = EQ\n",
    "    | x < x'    = LT\n",
    "    | otherwise = GT\n",
    "\n",
    "main = do print $ (Pt 1) == (Pt 2)  -- 出力: False\n",
    "          print $ (Pt 1) >= (Pt 2)  -- 出力: False\n",
    "          print $ (Pt 1) <= (Pt 2)  -- 出力: True"
   ]
  },
  {
   "cell_type": "code",
   "execution_count": null,
   "metadata": {
    "collapsed": true
   },
   "outputs": [],
   "source": [
    "-- deriving 宣言\n",
    "data Point = Pt Double Double deriving Eq\n",
    "\n",
    "main = do print $ (Pt 1 2) == (Pt 1 2)  -- 出力: True\n",
    "          print $ (Pt 1 2) == (Pt 2 3)  -- 出力: False"
   ]
  },
  {
   "cell_type": "code",
   "execution_count": 46,
   "metadata": {
    "collapsed": false
   },
   "outputs": [
    {
     "data": {
      "text/plain": [
       "[Mon,Tue,Wed,Thu,Fri]"
      ]
     },
     "metadata": {},
     "output_type": "display_data"
    }
   ],
   "source": [
    "-- 標準の型クラス\n",
    "-- Eq(== /=のメソッドをもつ) Ord(min, max等の順序付け可能？なメソッドをもつ) \n",
    "-- Num 数値として扱われる型を表す。数値が持つメソッドをもつ\n",
    "data Day = Sun | Mon | Tue | Wed | Thu | Fri | Sat\n",
    "           deriving (Enum, Show)\n",
    "main = print [Mon .. Fri]  -- 出力: [Mon, Tue, Wed, Thu, Fri]\n",
    "main"
   ]
  },
  {
   "cell_type": "code",
   "execution_count": 49,
   "metadata": {
    "collapsed": false
   },
   "outputs": [
    {
     "data": {
      "text/plain": [
       "Nothing\n",
       "Just 6"
      ]
     },
     "metadata": {},
     "output_type": "display_data"
    }
   ],
   "source": [
    "-- カインド(kind) 型の型\n",
    "-- 関数 cmap の型宣言を吟味すると，Container クラスのインスタンスは Maybe であって，Maybe a ではないことがわかります． Container クラスのインスタンスは，具体型を取り具体型を返す，一種の高階の型であると言えます．\n",
    "-- Container クラスのインスタンスのカインドは，* -> * と書かれます． ここで，カインド * は何らかの具体的な型を表します． カインド * -> * は，具体的な型を取り，具体的な型を返す型を表します． Maybe :: * -> * であり，Int :: * なので，Maybe Int のカインドは * です．\n",
    "\n",
    "class Container c where\n",
    "  cmap :: (a -> b) -> c a -> c b\n",
    "  \n",
    "-- ContainerのインタンスはMaybe型\n",
    "instance Container Maybe where\n",
    "  -- cmap :: (a -> b) -> Maybe a -> Maybe b\n",
    "  cmap f Nothing  = Nothing\n",
    "  cmap f (Just x) = Just (f x)\n",
    "\n",
    "main = do print $ cmap (2*) Nothing   -- 出力: Nothing\n",
    "          print $ cmap (2*) (Just 3)  -- 出力: Just 6\n",
    "main"
   ]
  },
  {
   "cell_type": "markdown",
   "metadata": {},
   "source": [
    "http://walk.northcol.org/haskell/modules/"
   ]
  },
  {
   "cell_type": "code",
   "execution_count": 51,
   "metadata": {
    "collapsed": false
   },
   "outputs": [
    {
     "data": {
      "text/plain": [
       "[1,2,3]\n",
       "[1,2,3]"
      ]
     },
     "metadata": {},
     "output_type": "display_data"
    }
   ],
   "source": [
    "-- モジュール(module)、関数や型をパッケージ化する役割を持つ、他の言語においてパッケージ，ストラクチャ，名前空間などと呼ばれている概念と同様です\n",
    "-- 標準モジュールの利用\n",
    "import Data.List\n",
    "\n",
    "main = do print $ sort [2, 1, 3]\n",
    "          print $ Data.List.sort [2, 1, 3]\n",
    "main\n",
    "\n",
    "-- 一部の関数をimportしたくない場合は\n",
    "import Prelude hiding (take, length)"
   ]
  },
  {
   "cell_type": "code",
   "execution_count": 63,
   "metadata": {
    "collapsed": false
   },
   "outputs": [
    {
     "data": {
      "text/html": [
       "<style>/* Styles used for the Hoogle display in the pager */\n",
       ".hoogle-doc {\n",
       "display: block;\n",
       "padding-bottom: 1.3em;\n",
       "padding-left: 0.4em;\n",
       "}\n",
       ".hoogle-code {\n",
       "display: block;\n",
       "font-family: monospace;\n",
       "white-space: pre;\n",
       "}\n",
       ".hoogle-text {\n",
       "display: block;\n",
       "}\n",
       ".hoogle-name {\n",
       "color: green;\n",
       "font-weight: bold;\n",
       "}\n",
       ".hoogle-head {\n",
       "font-weight: bold;\n",
       "}\n",
       ".hoogle-sub {\n",
       "display: block;\n",
       "margin-left: 0.4em;\n",
       "}\n",
       ".hoogle-package {\n",
       "font-weight: bold;\n",
       "font-style: italic;\n",
       "}\n",
       ".hoogle-module {\n",
       "font-weight: bold;\n",
       "}\n",
       ".hoogle-class {\n",
       "font-weight: bold;\n",
       "}\n",
       ".get-type {\n",
       "color: green;\n",
       "font-weight: bold;\n",
       "font-family: monospace;\n",
       "display: block;\n",
       "white-space: pre-wrap;\n",
       "}\n",
       ".show-type {\n",
       "color: green;\n",
       "font-weight: bold;\n",
       "font-family: monospace;\n",
       "margin-left: 1em;\n",
       "}\n",
       ".mono {\n",
       "font-family: monospace;\n",
       "display: block;\n",
       "}\n",
       ".err-msg {\n",
       "color: red;\n",
       "font-style: italic;\n",
       "font-family: monospace;\n",
       "white-space: pre;\n",
       "display: block;\n",
       "}\n",
       "#unshowable {\n",
       "color: red;\n",
       "font-weight: bold;\n",
       "}\n",
       ".err-msg.in.collapse {\n",
       "padding-top: 0.7em;\n",
       "}\n",
       ".highlight-code {\n",
       "white-space: pre;\n",
       "font-family: monospace;\n",
       "}\n",
       ".suggestion-warning { \n",
       "font-weight: bold;\n",
       "color: rgb(200, 130, 0);\n",
       "}\n",
       ".suggestion-error { \n",
       "font-weight: bold;\n",
       "color: red;\n",
       "}\n",
       ".suggestion-name {\n",
       "font-weight: bold;\n",
       "}\n",
       "</style><span class='err-msg'>.//Geometry.hs: commitBuffer: invalid argument (invalid character)</span>"
      ],
      "text/plain": [
       ".//Geometry.hs: commitBuffer: invalid argument (invalid character)"
      ]
     },
     "metadata": {},
     "output_type": "display_data"
    }
   ],
   "source": [
    "-- モジュールの作成\n",
    "-- Geometry module\n",
    "module Geometry where\n",
    "-- エクスポートする属性を指定する。エクスポートリストという\n",
    "-- module Geometry(Shape(Tri, Rect), area) where\n",
    "\n",
    "data Shape = Tri { base, height:: Double }\n",
    "           | Rect { width, height :: Double }\n",
    "\n",
    "area :: Shape -> Double\n",
    "area (Tri x y)  = x * y / 2\n",
    "area (Rect x y) = x * y"
   ]
  },
  {
   "cell_type": "code",
   "execution_count": 62,
   "metadata": {
    "collapsed": true
   },
   "outputs": [
    {
     "data": {
      "text/html": [
       "<style>/* Styles used for the Hoogle display in the pager */\n",
       ".hoogle-doc {\n",
       "display: block;\n",
       "padding-bottom: 1.3em;\n",
       "padding-left: 0.4em;\n",
       "}\n",
       ".hoogle-code {\n",
       "display: block;\n",
       "font-family: monospace;\n",
       "white-space: pre;\n",
       "}\n",
       ".hoogle-text {\n",
       "display: block;\n",
       "}\n",
       ".hoogle-name {\n",
       "color: green;\n",
       "font-weight: bold;\n",
       "}\n",
       ".hoogle-head {\n",
       "font-weight: bold;\n",
       "}\n",
       ".hoogle-sub {\n",
       "display: block;\n",
       "margin-left: 0.4em;\n",
       "}\n",
       ".hoogle-package {\n",
       "font-weight: bold;\n",
       "font-style: italic;\n",
       "}\n",
       ".hoogle-module {\n",
       "font-weight: bold;\n",
       "}\n",
       ".hoogle-class {\n",
       "font-weight: bold;\n",
       "}\n",
       ".get-type {\n",
       "color: green;\n",
       "font-weight: bold;\n",
       "font-family: monospace;\n",
       "display: block;\n",
       "white-space: pre-wrap;\n",
       "}\n",
       ".show-type {\n",
       "color: green;\n",
       "font-weight: bold;\n",
       "font-family: monospace;\n",
       "margin-left: 1em;\n",
       "}\n",
       ".mono {\n",
       "font-family: monospace;\n",
       "display: block;\n",
       "}\n",
       ".err-msg {\n",
       "color: red;\n",
       "font-style: italic;\n",
       "font-family: monospace;\n",
       "white-space: pre;\n",
       "display: block;\n",
       "}\n",
       "#unshowable {\n",
       "color: red;\n",
       "font-weight: bold;\n",
       "}\n",
       ".err-msg.in.collapse {\n",
       "padding-top: 0.7em;\n",
       "}\n",
       ".highlight-code {\n",
       "white-space: pre;\n",
       "font-family: monospace;\n",
       "}\n",
       ".suggestion-warning { \n",
       "font-weight: bold;\n",
       "color: rgb(200, 130, 0);\n",
       "}\n",
       ".suggestion-error { \n",
       "font-weight: bold;\n",
       "color: red;\n",
       "}\n",
       ".suggestion-name {\n",
       "font-weight: bold;\n",
       "}\n",
       "</style><span class='err-msg'>Ambiguous occurrence `width'<br/>It could refer to either `Geometry.width', imported from `Geometry' (and originally defined at Geometry.hs:4:21-25)<br/>                      or `IHaskell.Display.StaticCanvas.width', imported from `IHaskell.Display.StaticCanvas'<br/><br/><br/>Ambiguous occurrence `height'<br/>It could refer to either `Geometry.height', imported from `Geometry' (and originally defined at Geometry.hs:3:26-31)<br/>                      or `IHaskell.Display.StaticCanvas.height', imported from `IHaskell.Display.StaticCanvas'</span>"
      ],
      "text/plain": [
       "Ambiguous occurrence `width'\n",
       "It could refer to either `Geometry.width', imported from `Geometry' (and originally defined at Geometry.hs:4:21-25)\n",
       "                      or `IHaskell.Display.StaticCanvas.width', imported from `IHaskell.Display.StaticCanvas'\n",
       "\n",
       "\n",
       "Ambiguous occurrence `height'\n",
       "It could refer to either `Geometry.height', imported from `Geometry' (and originally defined at Geometry.hs:3:26-31)\n",
       "                      or `IHaskell.Display.StaticCanvas.height', imported from `IHaskell.Display.StaticCanvas'"
      ]
     },
     "metadata": {},
     "output_type": "display_data"
    }
   ],
   "source": [
    "import Geometry\n",
    "\n",
    "main = do print $ width (Rect 3.0 4.0)   -- 出力: 3.0\n",
    "          print $ height (Rect 3.0 4.0)  -- 出力: 4.0\n",
    "          print $ area (Tri 3.0 4.0)     -- 出力: 6.0\n",
    "          print $ area (Rect 3.0 4.0)    -- 出力: 12.0"
   ]
  },
  {
   "cell_type": "code",
   "execution_count": 64,
   "metadata": {
    "collapsed": true
   },
   "outputs": [],
   "source": [
    "-- 階層化されたモジュール\n",
    "-- Dataディレクトリ下にGeometry.hsを入れて、Geometry->Data.Geometryに書き直す必要がある\n",
    "-- module Data.Geometry"
   ]
  },
  {
   "cell_type": "code",
   "execution_count": 65,
   "metadata": {
    "collapsed": true
   },
   "outputs": [
    {
     "data": {
      "text/html": [
       "<style>/* Styles used for the Hoogle display in the pager */\n",
       ".hoogle-doc {\n",
       "display: block;\n",
       "padding-bottom: 1.3em;\n",
       "padding-left: 0.4em;\n",
       "}\n",
       ".hoogle-code {\n",
       "display: block;\n",
       "font-family: monospace;\n",
       "white-space: pre;\n",
       "}\n",
       ".hoogle-text {\n",
       "display: block;\n",
       "}\n",
       ".hoogle-name {\n",
       "color: green;\n",
       "font-weight: bold;\n",
       "}\n",
       ".hoogle-head {\n",
       "font-weight: bold;\n",
       "}\n",
       ".hoogle-sub {\n",
       "display: block;\n",
       "margin-left: 0.4em;\n",
       "}\n",
       ".hoogle-package {\n",
       "font-weight: bold;\n",
       "font-style: italic;\n",
       "}\n",
       ".hoogle-module {\n",
       "font-weight: bold;\n",
       "}\n",
       ".hoogle-class {\n",
       "font-weight: bold;\n",
       "}\n",
       ".get-type {\n",
       "color: green;\n",
       "font-weight: bold;\n",
       "font-family: monospace;\n",
       "display: block;\n",
       "white-space: pre-wrap;\n",
       "}\n",
       ".show-type {\n",
       "color: green;\n",
       "font-weight: bold;\n",
       "font-family: monospace;\n",
       "margin-left: 1em;\n",
       "}\n",
       ".mono {\n",
       "font-family: monospace;\n",
       "display: block;\n",
       "}\n",
       ".err-msg {\n",
       "color: red;\n",
       "font-style: italic;\n",
       "font-family: monospace;\n",
       "white-space: pre;\n",
       "display: block;\n",
       "}\n",
       "#unshowable {\n",
       "color: red;\n",
       "font-weight: bold;\n",
       "}\n",
       ".err-msg.in.collapse {\n",
       "padding-top: 0.7em;\n",
       "}\n",
       ".highlight-code {\n",
       "white-space: pre;\n",
       "font-family: monospace;\n",
       "}\n",
       ".suggestion-warning { \n",
       "font-weight: bold;\n",
       "color: rgb(200, 130, 0);\n",
       "}\n",
       ".suggestion-error { \n",
       "font-weight: bold;\n",
       "color: red;\n",
       "}\n",
       ".suggestion-name {\n",
       "font-weight: bold;\n",
       "}\n",
       "</style><span class='err-msg'>.//Main.hs: commitBuffer: invalid argument (invalid character)</span>"
      ],
      "text/plain": [
       ".//Main.hs: commitBuffer: invalid argument (invalid character)"
      ]
     },
     "metadata": {},
     "output_type": "display_data"
    }
   ],
   "source": [
    "-- Mainモジュール　モジュール名がかあかれていない場合はMainとして扱われる\n",
    "-- 以下のように書かれる\n",
    "module Main(main) where\n",
    "    main = prtStrLn \"hello, world\""
   ]
  }
 ],
 "metadata": {
  "kernelspec": {
   "display_name": "Haskell",
   "language": "haskell",
   "name": "haskell"
  },
  "language_info": {
   "codemirror_mode": "ihaskell",
   "file_extension": ".hs",
   "name": "haskell",
   "version": "7.10.2"
  }
 },
 "nbformat": 4,
 "nbformat_minor": 0
}
