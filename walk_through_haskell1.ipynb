{
 "cells": [
  {
   "cell_type": "markdown",
   "metadata": {},
   "source": [
    "http://walk.northcol.org/haskell/expressions/"
   ]
  },
  {
   "cell_type": "code",
   "execution_count": 53,
   "metadata": {
    "collapsed": false
   },
   "outputs": [
    {
     "data": {
      "text/html": [
       "<style>/* Styles used for the Hoogle display in the pager */\n",
       ".hoogle-doc {\n",
       "display: block;\n",
       "padding-bottom: 1.3em;\n",
       "padding-left: 0.4em;\n",
       "}\n",
       ".hoogle-code {\n",
       "display: block;\n",
       "font-family: monospace;\n",
       "white-space: pre;\n",
       "}\n",
       ".hoogle-text {\n",
       "display: block;\n",
       "}\n",
       ".hoogle-name {\n",
       "color: green;\n",
       "font-weight: bold;\n",
       "}\n",
       ".hoogle-head {\n",
       "font-weight: bold;\n",
       "}\n",
       ".hoogle-sub {\n",
       "display: block;\n",
       "margin-left: 0.4em;\n",
       "}\n",
       ".hoogle-package {\n",
       "font-weight: bold;\n",
       "font-style: italic;\n",
       "}\n",
       ".hoogle-module {\n",
       "font-weight: bold;\n",
       "}\n",
       ".hoogle-class {\n",
       "font-weight: bold;\n",
       "}\n",
       ".get-type {\n",
       "color: green;\n",
       "font-weight: bold;\n",
       "font-family: monospace;\n",
       "display: block;\n",
       "white-space: pre-wrap;\n",
       "}\n",
       ".show-type {\n",
       "color: green;\n",
       "font-weight: bold;\n",
       "font-family: monospace;\n",
       "margin-left: 1em;\n",
       "}\n",
       ".mono {\n",
       "font-family: monospace;\n",
       "display: block;\n",
       "}\n",
       ".err-msg {\n",
       "color: red;\n",
       "font-style: italic;\n",
       "font-family: monospace;\n",
       "white-space: pre;\n",
       "display: block;\n",
       "}\n",
       "#unshowable {\n",
       "color: red;\n",
       "font-weight: bold;\n",
       "}\n",
       ".err-msg.in.collapse {\n",
       "padding-top: 0.7em;\n",
       "}\n",
       ".highlight-code {\n",
       "white-space: pre;\n",
       "font-family: monospace;\n",
       "}\n",
       ".suggestion-warning { \n",
       "font-weight: bold;\n",
       "color: rgb(200, 130, 0);\n",
       "}\n",
       ".suggestion-error { \n",
       "font-weight: bold;\n",
       "color: red;\n",
       "}\n",
       ".suggestion-name {\n",
       "font-weight: bold;\n",
       "}\n",
       "</style><div class=\"suggestion-name\" style=\"clear:both;\">Use fromMaybe</div><div class=\"suggestion-row\" style=\"float: left;\"><div class=\"suggestion-warning\">Found:</div><div class=\"highlight-code\" id=\"haskell\">case maybe of\n",
       "    Nothing -> defval\n",
       "    Just x -> x</div></div><div class=\"suggestion-row\" style=\"float: left;\"><div class=\"suggestion-warning\">Why Not:</div><div class=\"highlight-code\" id=\"haskell\">fromMaybe defval maybe</div></div>"
      ],
      "text/plain": [
       "Line 2: Use fromMaybe\n",
       "Found:\n",
       "case maybe of\n",
       "    Nothing -> defval\n",
       "    Just x -> x\n",
       "Why not:\n",
       "fromMaybe defval maybe"
      ]
     },
     "metadata": {},
     "output_type": "display_data"
    },
    {
     "data": {
      "text/plain": [
       "0"
      ]
     },
     "metadata": {},
     "output_type": "display_data"
    },
    {
     "data": {
      "text/plain": [
       "5"
      ]
     },
     "metadata": {},
     "output_type": "display_data"
    }
   ],
   "source": [
    "-- case pattern matching\n",
    "-- maybe is Maybe type\n",
    "getValue defval maybe =\n",
    "  case maybe of\n",
    "    Nothing -> defval\n",
    "    Just x  -> x\n",
    "\n",
    "print (getValue 0 Nothing)   -- 出力: 0\n",
    "print (getValue 0 (Just 5))  -- 出力: 5"
   ]
  },
  {
   "cell_type": "code",
   "execution_count": 32,
   "metadata": {
    "collapsed": false
   },
   "outputs": [
    {
     "data": {
      "text/plain": [
       "0"
      ]
     },
     "metadata": {},
     "output_type": "display_data"
    },
    {
     "data": {
      "text/plain": [
       "5"
      ]
     },
     "metadata": {},
     "output_type": "display_data"
    },
    {
     "data": {
      "text/plain": [
       "5"
      ]
     },
     "metadata": {},
     "output_type": "display_data"
    }
   ],
   "source": [
    "-- case guard\n",
    "absMaybe x =\n",
    "  case x of\n",
    "    Nothing            -> 0\n",
    "    Just x | x < 0     -> -x   -- Just x にマッチし，x < 0 のとき\n",
    "           | otherwise -> x    -- Just x にマッチし，x < 0 でないとき\n",
    "\n",
    "print (absMaybe Nothing)      -- 出力: 0\n",
    "print (absMaybe (Just 5))     -- 出力: 5\n",
    "print (absMaybe (Just (-5)))  -- 出力: 5"
   ]
  },
  {
   "cell_type": "code",
   "execution_count": 39,
   "metadata": {
    "collapsed": false
   },
   "outputs": [
    {
     "data": {
      "text/plain": [
       "314.0"
      ]
     },
     "metadata": {},
     "output_type": "display_data"
    }
   ],
   "source": [
    "-- let in\n",
    "-- piとsquareの変数はinまでスコープを持つ\n",
    "area r =\n",
    "  let pi = 3.14\n",
    "      square x = x * x\n",
    "  in pi * square r\n",
    "\n",
    "print (area 10.0)  -- 出力: 314.0"
   ]
  },
  {
   "cell_type": "code",
   "execution_count": 65,
   "metadata": {
    "collapsed": false
   },
   "outputs": [
    {
     "data": {
      "text/plain": [
       "314.0"
      ]
     },
     "metadata": {},
     "output_type": "display_data"
    }
   ],
   "source": [
    "-- where 以下がスコープ\n",
    "area r = pi * square r\n",
    "  where\n",
    "    pi = 3.14\n",
    "    square x = x * x\n",
    "print (area 10.0)  -- 出力: 314.0"
   ]
  },
  {
   "cell_type": "markdown",
   "metadata": {},
   "source": [
    "http://walk.northcol.org/haskell/functions/"
   ]
  },
  {
   "cell_type": "code",
   "execution_count": 60,
   "metadata": {
    "collapsed": false
   },
   "outputs": [
    {
     "data": {
      "text/plain": [
       "6"
      ]
     },
     "metadata": {},
     "output_type": "display_data"
    }
   ],
   "source": [
    "-- $演算子、関数適用の()の代わりに使う\n",
    "add x y = x + y\n",
    "main = print $ add 2 4\n",
    "main"
   ]
  },
  {
   "cell_type": "code",
   "execution_count": 64,
   "metadata": {
    "collapsed": false
   },
   "outputs": [
    {
     "data": {
      "text/plain": [
       "2\n",
       "4\n",
       "16\n",
       "65536\n",
       "[1,4,9,16,25]"
      ]
     },
     "metadata": {},
     "output_type": "display_data"
    }
   ],
   "source": [
    "-- 高階関数\n",
    "-- 引数の関数を適用する関数\n",
    "twice :: (a -> a) -> a -> a -- 関数の型定義\n",
    "twice f x = f (f x)\n",
    "\n",
    "square :: Int -> Int -- 関数の型定義\n",
    "square x = x * x\n",
    "-- idは引数をそのまま\n",
    "-- succは引数+1を返す\n",
    "main = do print $ twice id 2            -- 値: 2\n",
    "          print $ twice succ 2          -- 値: 4(succ(succ(2)))\n",
    "          print $ twice square 2        -- 値: 16(square(square(2)))\n",
    "          print $ twice twice square 2  -- 値: 65536\n",
    "          print $ map square [1, 2, 3, 4, 5] -- map関数listの要素に関数を適用\n",
    "main"
   ]
  },
  {
   "cell_type": "code",
   "execution_count": 73,
   "metadata": {
    "collapsed": false
   },
   "outputs": [
    {
     "data": {
      "text/plain": [
       "[1,4,9,16,25]"
      ]
     },
     "metadata": {},
     "output_type": "display_data"
    }
   ],
   "source": [
    "-- 関数式（function expression）、無名関数ともいう。pythonのlambda式みたいなもの\n",
    "-- \\ 引数1  ... 引数n -> 定義\n",
    "-- バックスラッシュ \\ が引数の前に入る\n",
    "map (\\x -> x * x) [1, 2, 3, 4, 5] "
   ]
  },
  {
   "cell_type": "code",
   "execution_count": 75,
   "metadata": {
    "collapsed": false
   },
   "outputs": [
    {
     "data": {
      "text/plain": [
       "6"
      ]
     },
     "metadata": {},
     "output_type": "display_data"
    }
   ],
   "source": [
    "-- 関数の部分適用(partial application) doubleはmultを部分的に使っている\n",
    "-- multをカリー化された関数という\n",
    "mult x y = x * y\n",
    "double = mult 2\n",
    "\n",
    "print $ double 3 -- (mult 2) 3"
   ]
  },
  {
   "cell_type": "code",
   "execution_count": 77,
   "metadata": {
    "collapsed": false
   },
   "outputs": [
    {
     "data": {
      "text/plain": [
       "9"
      ]
     },
     "metadata": {},
     "output_type": "display_data"
    }
   ],
   "source": [
    "-- 非カリー化された関数は以下のようになる(引数を部分的に？代入できない)\n",
    "mult' :: (Int, Int) -> Int -- 引数の型定義\n",
    "mult' (x, y) = x * y\n",
    "print $ mult' (3, 3)"
   ]
  },
  {
   "cell_type": "code",
   "execution_count": 82,
   "metadata": {
    "collapsed": false
   },
   "outputs": [],
   "source": [
    "-- 関数合成\n",
    "-- 合成(数学ではf∘g)\n",
    "-- 以下の3つは同じ定義\n",
    "-- f :: b -> c\n",
    "-- g :: a -> b\n",
    "-- foo x = f ( g (h x))\n",
    "-- foo x = (f . g . h) x\n",
    "-- foo = f . g . h"
   ]
  },
  {
   "cell_type": "code",
   "execution_count": 86,
   "metadata": {
    "collapsed": false
   },
   "outputs": [
    {
     "data": {
      "text/html": [
       "<style>/* Styles used for the Hoogle display in the pager */\n",
       ".hoogle-doc {\n",
       "display: block;\n",
       "padding-bottom: 1.3em;\n",
       "padding-left: 0.4em;\n",
       "}\n",
       ".hoogle-code {\n",
       "display: block;\n",
       "font-family: monospace;\n",
       "white-space: pre;\n",
       "}\n",
       ".hoogle-text {\n",
       "display: block;\n",
       "}\n",
       ".hoogle-name {\n",
       "color: green;\n",
       "font-weight: bold;\n",
       "}\n",
       ".hoogle-head {\n",
       "font-weight: bold;\n",
       "}\n",
       ".hoogle-sub {\n",
       "display: block;\n",
       "margin-left: 0.4em;\n",
       "}\n",
       ".hoogle-package {\n",
       "font-weight: bold;\n",
       "font-style: italic;\n",
       "}\n",
       ".hoogle-module {\n",
       "font-weight: bold;\n",
       "}\n",
       ".hoogle-class {\n",
       "font-weight: bold;\n",
       "}\n",
       ".get-type {\n",
       "color: green;\n",
       "font-weight: bold;\n",
       "font-family: monospace;\n",
       "display: block;\n",
       "white-space: pre-wrap;\n",
       "}\n",
       ".show-type {\n",
       "color: green;\n",
       "font-weight: bold;\n",
       "font-family: monospace;\n",
       "margin-left: 1em;\n",
       "}\n",
       ".mono {\n",
       "font-family: monospace;\n",
       "display: block;\n",
       "}\n",
       ".err-msg {\n",
       "color: red;\n",
       "font-style: italic;\n",
       "font-family: monospace;\n",
       "white-space: pre;\n",
       "display: block;\n",
       "}\n",
       "#unshowable {\n",
       "color: red;\n",
       "font-weight: bold;\n",
       "}\n",
       ".err-msg.in.collapse {\n",
       "padding-top: 0.7em;\n",
       "}\n",
       ".highlight-code {\n",
       "white-space: pre;\n",
       "font-family: monospace;\n",
       "}\n",
       ".suggestion-warning { \n",
       "font-weight: bold;\n",
       "color: rgb(200, 130, 0);\n",
       "}\n",
       ".suggestion-error { \n",
       "font-weight: bold;\n",
       "color: red;\n",
       "}\n",
       ".suggestion-name {\n",
       "font-weight: bold;\n",
       "}\n",
       "</style><span class='err-msg'>Parse error (line 4, column 5): parse error on input `='</span>"
      ],
      "text/plain": [
       "Parse error (line 4, column 5): parse error on input `='"
      ]
     },
     "metadata": {},
     "output_type": "display_data"
    }
   ],
   "source": [
    "-- ポイントフリースタイル(pointfree style)\n",
    "-- . で関数をつなぐこと\n",
    "-- foo x y = f x (g y)を定義してみる\n",
    "foo = \\x y -> f x (g y)\n",
    "    = \\x y -> (f x . g) y\n",
    "    = \\x -> f x . g\n",
    "    = \\x -> (. g) (f x)\n",
    "    = \\x -> ((. g) . f) x\n",
    "    = (. g) . f"
   ]
  },
  {
   "cell_type": "code",
   "execution_count": null,
   "metadata": {
    "collapsed": true
   },
   "outputs": [],
   "source": []
  }
 ],
 "metadata": {
  "kernelspec": {
   "display_name": "Haskell",
   "language": "haskell",
   "name": "haskell"
  },
  "language_info": {
   "codemirror_mode": "ihaskell",
   "file_extension": ".hs",
   "name": "haskell",
   "version": "7.10.2"
  }
 },
 "nbformat": 4,
 "nbformat_minor": 0
}
