{
 "cells": [
  {
   "cell_type": "markdown",
   "metadata": {},
   "source": [
    "http://walk.northcol.org/haskell/io/"
   ]
  },
  {
   "cell_type": "code",
   "execution_count": 2,
   "metadata": {
    "collapsed": false
   },
   "outputs": [
    {
     "data": {
      "text/plain": [
       "hello, world"
      ]
     },
     "metadata": {},
     "output_type": "display_data"
    }
   ],
   "source": [
    "-- I/O アクション\n",
    "-- 入出力処理など副作用を伴う演算はI/Oアクションという値で表現される\n",
    "main :: IO ()\n",
    "main = putStrLn \"hello, world\"\n",
    "main"
   ]
  },
  {
   "cell_type": "code",
   "execution_count": 12,
   "metadata": {
    "collapsed": false
   },
   "outputs": [
    {
     "data": {
      "text/plain": [
       "What's your name?\n",
       "Hello, john!"
      ]
     },
     "metadata": {},
     "output_type": "display_data"
    }
   ],
   "source": [
    "-- 標準入出力、複数のアクション\n",
    "main :: IO ()\n",
    "main = do\n",
    "    putStrLn \"What's your name?\"\n",
    "    -- 入力をnameに入れる\n",
    "    name <- getLine\n",
    "    let greeting = \"Hello, \" ++ name ++ \"!\"\n",
    "    putStrLn greeting\n",
    "main"
   ]
  },
  {
   "cell_type": "code",
   "execution_count": 16,
   "metadata": {
    "collapsed": true
   },
   "outputs": [
    {
     "data": {
      "text/plain": [
       "[\"kernel\",\"/root/.local/share/jupyter/runtime/kernel-97ee58e5-82c9-495d-8516-dcee44d48341.json\",\"--ghclib\",\"/root/.stack/programs/x86_64-linux/ghc-7.10.2/lib/ghc-7.10.2\"]\n",
       "ihaskell"
      ]
     },
     "metadata": {},
     "output_type": "display_data"
    }
   ],
   "source": [
    "-- コマンドライン引数\n",
    "import System.Environment\n",
    "\n",
    "main :: IO ()\n",
    "main = do\n",
    "    -- 引数を[String]として取得\n",
    "    args <- getArgs\n",
    "    print args\n",
    "    -- Stringとして取得\n",
    "    name <- getProgName\n",
    "    putStrLn name\n",
    "main"
   ]
  },
  {
   "cell_type": "markdown",
   "metadata": {},
   "source": [
    "http://walk.northcol.org/haskell/monads/"
   ]
  },
  {
   "cell_type": "code",
   "execution_count": 21,
   "metadata": {
    "collapsed": true
   },
   "outputs": [
    {
     "data": {
      "text/html": [
       "<style>/* Styles used for the Hoogle display in the pager */\n",
       ".hoogle-doc {\n",
       "display: block;\n",
       "padding-bottom: 1.3em;\n",
       "padding-left: 0.4em;\n",
       "}\n",
       ".hoogle-code {\n",
       "display: block;\n",
       "font-family: monospace;\n",
       "white-space: pre;\n",
       "}\n",
       ".hoogle-text {\n",
       "display: block;\n",
       "}\n",
       ".hoogle-name {\n",
       "color: green;\n",
       "font-weight: bold;\n",
       "}\n",
       ".hoogle-head {\n",
       "font-weight: bold;\n",
       "}\n",
       ".hoogle-sub {\n",
       "display: block;\n",
       "margin-left: 0.4em;\n",
       "}\n",
       ".hoogle-package {\n",
       "font-weight: bold;\n",
       "font-style: italic;\n",
       "}\n",
       ".hoogle-module {\n",
       "font-weight: bold;\n",
       "}\n",
       ".hoogle-class {\n",
       "font-weight: bold;\n",
       "}\n",
       ".get-type {\n",
       "color: green;\n",
       "font-weight: bold;\n",
       "font-family: monospace;\n",
       "display: block;\n",
       "white-space: pre-wrap;\n",
       "}\n",
       ".show-type {\n",
       "color: green;\n",
       "font-weight: bold;\n",
       "font-family: monospace;\n",
       "margin-left: 1em;\n",
       "}\n",
       ".mono {\n",
       "font-family: monospace;\n",
       "display: block;\n",
       "}\n",
       ".err-msg {\n",
       "color: red;\n",
       "font-style: italic;\n",
       "font-family: monospace;\n",
       "white-space: pre;\n",
       "display: block;\n",
       "}\n",
       "#unshowable {\n",
       "color: red;\n",
       "font-weight: bold;\n",
       "}\n",
       ".err-msg.in.collapse {\n",
       "padding-top: 0.7em;\n",
       "}\n",
       ".highlight-code {\n",
       "white-space: pre;\n",
       "font-family: monospace;\n",
       "}\n",
       ".suggestion-warning { \n",
       "font-weight: bold;\n",
       "color: rgb(200, 130, 0);\n",
       "}\n",
       ".suggestion-error { \n",
       "font-weight: bold;\n",
       "color: red;\n",
       "}\n",
       ".suggestion-name {\n",
       "font-weight: bold;\n",
       "}\n",
       "</style><span class='err-msg'>No instance for (interactive:IHaskell312.Functor Maybe) arising from a use of `interactive:IHaskell312.fmap'<br/>In the second argument of `(<span>$</span>)', namely `interactive:IHaskell312.fmap interactive:IHaskell312.f (Just 5)'<br/>In a stmt of a 'do' block: print <span>$</span> interactive:IHaskell312.fmap interactive:IHaskell312.f (Just 5)<br/>In the expression: do { print <span>$</span> interactive:IHaskell312.fmap interactive:IHaskell312.f (Just 5) }</span>"
      ],
      "text/plain": [
       "No instance for (interactive:Ghci312.Functor Maybe) arising from a use of `interactive:Ghci312.fmap'\n",
       "In the second argument of `($)', namely `interactive:Ghci312.fmap interactive:Ghci312.f (Just 5)'\n",
       "In a stmt of a 'do' block: print $ interactive:Ghci312.fmap interactive:Ghci312.f (Just 5)\n",
       "In the expression: do { print $ interactive:Ghci312.fmap interactive:Ghci312.f (Just 5) }"
      ]
     },
     "metadata": {},
     "output_type": "display_data"
    }
   ],
   "source": [
    "-- ファンクタ(functor)\n",
    "-- 型クラスの一種。値を入れる構造を持つ型を表す\n",
    "class Functor t where\n",
    "  fmap :: (a -> b) -> t a -> t b\n",
    "\n",
    "f x = 2 * x\n",
    "\n",
    "main = do print $ fmap f (Just 5)   -- 出力: Just 10\n",
    "main"
   ]
  },
  {
   "cell_type": "code",
   "execution_count": null,
   "metadata": {
    "collapsed": true
   },
   "outputs": [],
   "source": [
    "-- モナドの定義\n"
   ]
  }
 ],
 "metadata": {
  "kernelspec": {
   "display_name": "Haskell",
   "language": "haskell",
   "name": "haskell"
  },
  "language_info": {
   "codemirror_mode": "ihaskell",
   "file_extension": ".hs",
   "name": "haskell",
   "version": "7.10.2"
  }
 },
 "nbformat": 4,
 "nbformat_minor": 0
}
