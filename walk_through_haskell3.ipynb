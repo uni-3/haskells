{
 "cells": [
  {
   "cell_type": "markdown",
   "metadata": {},
   "source": [
    "http://walk.northcol.org/haskell/adts/"
   ]
  },
  {
   "cell_type": "code",
   "execution_count": 4,
   "metadata": {
    "collapsed": false
   },
   "outputs": [
    {
     "data": {
      "text/plain": [
       "6.0\n",
       "9.0"
      ]
     },
     "metadata": {},
     "output_type": "display_data"
    }
   ],
   "source": [
    "-- 代数的データ型（algebraic data type）\n",
    "-- Shape は型構成子（type constructor）\n",
    "-- Rect はデータ構成子（data constructor）と呼ばれ\n",
    "-- 両者は英字の大文字（A-Z）で始めなければならない\n",
    "data Shape = Rect Double Double -- dataで代数的データ型を定義している\n",
    "           | Tri  Double Double\n",
    "area :: Shape -> Double\n",
    "area (Rect x y) = x * y -- データ構成子に従ってx, yはDoubleになる\n",
    "area (Tri  x y) = x * y / 2\n",
    "-- 渡すデータ構成子に依って呼び出される関数が変わる\n",
    "main = do print $ area (Rect 2 3)\n",
    "          print $ area (Tri  3 6)\n",
    "main"
   ]
  },
  {
   "cell_type": "code",
   "execution_count": 6,
   "metadata": {
    "collapsed": false
   },
   "outputs": [
    {
     "data": {
      "text/plain": [
       "True\n",
       "False"
      ]
     },
     "metadata": {},
     "output_type": "display_data"
    }
   ],
   "source": [
    "-- enum的な使い方もできる\n",
    "data DayOfWeek = Mon | Tue | Wed | Thu | Fri | Sat | Sun\n",
    "\n",
    "holiday :: DayOfWeek -> Bool\n",
    "holiday Sat = True\n",
    "holiday Sun = True\n",
    "holiday _   = False -- それ以外\n",
    "\n",
    "main = do\n",
    "  print $ holiday Sun  -- 出力: True\n",
    "  print $ holiday Mon  -- 出力: False\n",
    "main"
   ]
  },
  {
   "cell_type": "code",
   "execution_count": 13,
   "metadata": {
    "collapsed": false
   },
   "outputs": [
    {
     "data": {
      "text/plain": [
       "\"Taro\"\n",
       "20\n",
       "My name is Taro."
      ]
     },
     "metadata": {},
     "output_type": "display_data"
    }
   ],
   "source": [
    "-- フィールドラベル(field label)\n",
    "-- データて宣言できる\n",
    "-- これをフィールドラベルと呼び、アクセサの役割をもつ\n",
    "data Person = Person { name :: String, age :: Int }\n",
    "-- 関数定義\n",
    "intro :: Person -> String\n",
    "intro (Person { name = n }) = \"My name is \" ++ n ++ \".\"\n",
    "\n",
    "taro = Person { name = \"Taro\", age = 20 }\n",
    "\n",
    "main = do print    $ name taro\n",
    "          print    $ age  taro\n",
    "          putStrLn $ intro taro\n",
    "main"
   ]
  },
  {
   "cell_type": "code",
   "execution_count": 14,
   "metadata": {
    "collapsed": false
   },
   "outputs": [
    {
     "data": {
      "text/plain": [
       "26"
      ]
     },
     "metadata": {},
     "output_type": "display_data"
    }
   ],
   "source": [
    "-- フィールドの値を変えて出力\n",
    "data Person = Person { name :: String, age :: Int }\n",
    "\n",
    "inc :: Person -> Person\n",
    "inc p = p { age = age p + 1 }\n",
    "\n",
    "taro = Person \"Taro\" 25\n",
    "\n",
    "main = print $ age $ inc taro   -- p==taro\n",
    "main"
   ]
  },
  {
   "cell_type": "code",
   "execution_count": 19,
   "metadata": {
    "collapsed": false
   },
   "outputs": [
    {
     "data": {
      "text/plain": [
       "0\n",
       "3"
      ]
     },
     "metadata": {},
     "output_type": "display_data"
    }
   ],
   "source": [
    "-- 再帰的データ型\n",
    "import Prelude hiding (length) -- 標準関数の length を隠すおまじない\n",
    "\n",
    "data List a = Nil | Cons a (List a)\n",
    "\n",
    "length :: List a -> Int\n",
    "length Nil         = 0\n",
    "length (Cons x xs) = 1 + length xs\n",
    "\n",
    "main = do print $ length Nil                             -- 出力: 0\n",
    "          print $ length $ Cons 1 (Cons 2 (Cons 3 Nil))  -- input: [1, 2, 3] 出力: 3\n",
    "main"
   ]
  },
  {
   "cell_type": "code",
   "execution_count": null,
   "metadata": {
    "collapsed": true
   },
   "outputs": [],
   "source": [
    "-- 型シノニム(type synonym) 元の型と区別されない。独自の型として定義される？\n",
    "type Triple a b c = (a, b, c)"
   ]
  },
  {
   "cell_type": "code",
   "execution_count": 21,
   "metadata": {
    "collapsed": false
   },
   "outputs": [
    {
     "data": {
      "text/plain": [
       "123"
      ]
     },
     "metadata": {},
     "output_type": "display_data"
    }
   ],
   "source": [
    "-- newtype 宣言は，データ構成子数 1，フィールド数 1 の型専用の data 宣言とでも言うべきもので，既存の型をラップした型を与えます．\n",
    "-- newtype 宣言で定義された型は元の型と区別されますが，元の型と同じ内部表現で扱われます． このため，data 宣言で全く新しい型を定義するよりはプログラムを軽くできるという利点があります．\n",
    "-- 元の型と区別されるが、独自の型として定義可能。でも内部的には同じになる\n",
    "newtype DigitString = DigitStr String\n",
    "-- strをintに変換\n",
    "atoi :: DigitString -> Int\n",
    "atoi (DigitStr xs) = read xs\n",
    "\n",
    "main = print $ atoi (DigitStr \"0123\") -- 出力: 123\n",
    "main"
   ]
  },
  {
   "cell_type": "code",
   "execution_count": 24,
   "metadata": {
    "collapsed": false
   },
   "outputs": [
    {
     "data": {
      "text/plain": [
       "1.5\n",
       "3.3333333"
      ]
     },
     "metadata": {},
     "output_type": "display_data"
    }
   ],
   "source": [
    "-- 中置データ構成子\n",
    "data Ratio = Integer :/ Integer\n",
    "\n",
    "ratioToFloat :: Ratio -> Float\n",
    "ratioToFloat (x :/ y) = fromIntegral x / fromIntegral y\n",
    "\n",
    "main = do print $ ratioToFloat (3 :/ 2)  -- 出力: 1.5\n",
    "          print $ ratioToFloat (10 :/ 3) -- 出力: 3.33...\n",
    "main"
   ]
  },
  {
   "cell_type": "code",
   "execution_count": 25,
   "metadata": {
    "collapsed": true
   },
   "outputs": [],
   "source": [
    "-- 標準の代数的データ型\n",
    "-- boolは↓のような代数的データ型とみなせる\n",
    "data Bool = False | True"
   ]
  },
  {
   "cell_type": "code",
   "execution_count": null,
   "metadata": {
    "collapsed": true
   },
   "outputs": [],
   "source": []
  }
 ],
 "metadata": {
  "kernelspec": {
   "display_name": "Haskell",
   "language": "haskell",
   "name": "haskell"
  },
  "language_info": {
   "codemirror_mode": "ihaskell",
   "file_extension": ".hs",
   "name": "haskell",
   "version": "7.10.2"
  }
 },
 "nbformat": 4,
 "nbformat_minor": 0
}
